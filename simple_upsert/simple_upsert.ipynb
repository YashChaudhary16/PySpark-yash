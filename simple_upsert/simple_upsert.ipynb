{
 "cells": [
  {
   "cell_type": "markdown",
   "metadata": {
    "application/vnd.databricks.v1+cell": {
     "cellMetadata": {},
     "inputWidgets": {},
     "nuid": "ee5b2d45-e8a1-4d7e-b412-b3f26eae5b5b",
     "showTitle": false,
     "tableResultSettingsMap": {},
     "title": ""
    }
   },
   "source": [
    "# **Querying Source**"
   ]
  },
  {
   "cell_type": "code",
   "execution_count": 0,
   "metadata": {
    "application/vnd.databricks.v1+cell": {
     "cellMetadata": {
      "byteLimit": 2048000,
      "implicitDf": true,
      "rowLimit": 10000
     },
     "inputWidgets": {},
     "nuid": "766dec39-c890-47d1-80a5-feb8c79c7095",
     "showTitle": false,
     "tableResultSettingsMap": {},
     "title": ""
    }
   },
   "outputs": [
    {
     "output_type": "display_data",
     "data": {
      "text/html": [
       "<style scoped>\n",
       "  .table-result-container {\n",
       "    max-height: 300px;\n",
       "    overflow: auto;\n",
       "  }\n",
       "  table, th, td {\n",
       "    border: 1px solid black;\n",
       "    border-collapse: collapse;\n",
       "  }\n",
       "  th, td {\n",
       "    padding: 5px;\n",
       "  }\n",
       "  th {\n",
       "    text-align: left;\n",
       "  }\n",
       "</style><div class='table-result-container'><table class='table-result'><thead style='background-color: white'><tr><th>id</th><th>name</th><th>price</th><th>category</th><th>updated_date</th></tr></thead><tbody><tr><td>1</td><td>iPhone 15</td><td>999</td><td>Electronics</td><td>2025-01-05T10:30:00.000Z</td></tr><tr><td>2</td><td>Samsung Galaxy S24</td><td>899</td><td>Electronics</td><td>2025-02-10T15:45:00.000Z</td></tr><tr><td>3</td><td>MacBook Pro 16\"</td><td>2499</td><td>Electronics</td><td>2025-03-01T12:00:00.000Z</td></tr><tr><td>4</td><td>Nike Air Max</td><td>150</td><td>Footwear</td><td>2025-03-15T09:20:00.000Z</td></tr><tr><td>5</td><td>Adidas Ultraboost</td><td>180</td><td>Footwear</td><td>2025-03-18T14:10:00.000Z</td></tr><tr><td>6</td><td>Wooden Dining Table</td><td>750</td><td>Furniture</td><td>2025-04-01T11:00:00.000Z</td></tr><tr><td>7</td><td>Office Chair</td><td>120</td><td>Furniture</td><td>2025-04-03T16:25:00.000Z</td></tr><tr><td>8</td><td>Levi’s Jeans</td><td>70</td><td>Clothing</td><td>2025-04-10T13:50:00.000Z</td></tr><tr><td>9</td><td>Polo T-Shirt</td><td>40</td><td>Clothing</td><td>2025-04-15T17:30:00.000Z</td></tr><tr><td>10</td><td>Sony WH-1000XM5</td><td>400</td><td>Electronics</td><td>2025-05-01T08:45:00.000Z</td></tr><tr><td>10</td><td>Sony WH-1000XM5</td><td>200</td><td>Electronics</td><td>2025-08-26T21:39:09.426Z</td></tr><tr><td>9</td><td>Polo T-Shirt</td><td>50</td><td>Clothing</td><td>2025-08-26T21:39:09.426Z</td></tr></tbody></table></div>"
      ]
     },
     "metadata": {
      "application/vnd.databricks.v1+output": {
       "addedWidgets": {},
       "aggData": [],
       "aggError": "",
       "aggOverflow": false,
       "aggSchema": [],
       "aggSeriesLimitReached": false,
       "aggType": "",
       "arguments": {},
       "columnCustomDisplayInfos": {},
       "data": [
        [
         1,
         "iPhone 15",
         999,
         "Electronics",
         "2025-01-05T10:30:00.000Z"
        ],
        [
         2,
         "Samsung Galaxy S24",
         899,
         "Electronics",
         "2025-02-10T15:45:00.000Z"
        ],
        [
         3,
         "MacBook Pro 16\"",
         2499,
         "Electronics",
         "2025-03-01T12:00:00.000Z"
        ],
        [
         4,
         "Nike Air Max",
         150,
         "Footwear",
         "2025-03-15T09:20:00.000Z"
        ],
        [
         5,
         "Adidas Ultraboost",
         180,
         "Footwear",
         "2025-03-18T14:10:00.000Z"
        ],
        [
         6,
         "Wooden Dining Table",
         750,
         "Furniture",
         "2025-04-01T11:00:00.000Z"
        ],
        [
         7,
         "Office Chair",
         120,
         "Furniture",
         "2025-04-03T16:25:00.000Z"
        ],
        [
         8,
         "Levi’s Jeans",
         70,
         "Clothing",
         "2025-04-10T13:50:00.000Z"
        ],
        [
         9,
         "Polo T-Shirt",
         40,
         "Clothing",
         "2025-04-15T17:30:00.000Z"
        ],
        [
         10,
         "Sony WH-1000XM5",
         400,
         "Electronics",
         "2025-05-01T08:45:00.000Z"
        ],
        [
         10,
         "Sony WH-1000XM5",
         200,
         "Electronics",
         "2025-08-26T21:39:09.426Z"
        ],
        [
         9,
         "Polo T-Shirt",
         50,
         "Clothing",
         "2025-08-26T21:39:09.426Z"
        ]
       ],
       "datasetInfos": [
        {
         "name": "_sqldf",
         "schema": {
          "fields": [
           {
            "metadata": {},
            "name": "id",
            "nullable": true,
            "type": "integer"
           },
           {
            "metadata": {},
            "name": "name",
            "nullable": true,
            "type": "string"
           },
           {
            "metadata": {},
            "name": "price",
            "nullable": true,
            "type": "integer"
           },
           {
            "metadata": {},
            "name": "category",
            "nullable": true,
            "type": "string"
           },
           {
            "metadata": {},
            "name": "updated_date",
            "nullable": true,
            "type": "timestamp"
           }
          ],
          "type": "struct"
         },
         "tableIdentifier": null,
         "typeStr": "pyspark.sql.connect.dataframe.DataFrame"
        }
       ],
       "dbfsResultPath": null,
       "isJsonSchema": true,
       "metadata": {
        "createTempViewForImplicitDf": true,
        "dataframeName": "_sqldf",
        "executionCount": 7
       },
       "overflow": false,
       "plotOptions": {
        "customPlotOptions": {},
        "displayType": "table",
        "pivotAggregation": null,
        "pivotColumns": null,
        "xColumns": null,
        "yColumns": null
       },
       "removedWidgets": [],
       "schema": [
        {
         "metadata": "{}",
         "name": "id",
         "type": "\"integer\""
        },
        {
         "metadata": "{}",
         "name": "name",
         "type": "\"string\""
        },
        {
         "metadata": "{}",
         "name": "price",
         "type": "\"integer\""
        },
        {
         "metadata": "{}",
         "name": "category",
         "type": "\"string\""
        },
        {
         "metadata": "{}",
         "name": "updated_date",
         "type": "\"timestamp\""
        }
       ],
       "type": "table"
      }
     },
     "output_type": "display_data"
    }
   ],
   "source": [
    "%sql\n",
    "SELECT * FROM pyspark_cata.source.products"
   ]
  },
  {
   "cell_type": "markdown",
   "metadata": {
    "application/vnd.databricks.v1+cell": {
     "cellMetadata": {},
     "inputWidgets": {},
     "nuid": "61dc667e-35d3-4359-8e26-985996f80ff0",
     "showTitle": false,
     "tableResultSettingsMap": {},
     "title": ""
    }
   },
   "source": [
    "### Creating a dataframe"
   ]
  },
  {
   "cell_type": "code",
   "execution_count": 0,
   "metadata": {
    "application/vnd.databricks.v1+cell": {
     "cellMetadata": {
      "byteLimit": 2048000,
      "rowLimit": 10000
     },
     "inputWidgets": {},
     "nuid": "eb8c3b3c-bda9-4bf2-88c8-92fc5c3018e9",
     "showTitle": false,
     "tableResultSettingsMap": {},
     "title": ""
    }
   },
   "outputs": [
    {
     "output_type": "display_data",
     "data": {
      "text/html": [
       "<style scoped>\n",
       "  .table-result-container {\n",
       "    max-height: 300px;\n",
       "    overflow: auto;\n",
       "  }\n",
       "  table, th, td {\n",
       "    border: 1px solid black;\n",
       "    border-collapse: collapse;\n",
       "  }\n",
       "  th, td {\n",
       "    padding: 5px;\n",
       "  }\n",
       "  th {\n",
       "    text-align: left;\n",
       "  }\n",
       "</style><div class='table-result-container'><table class='table-result'><thead style='background-color: white'><tr><th>id</th><th>name</th><th>price</th><th>category</th><th>updated_date</th></tr></thead><tbody><tr><td>1</td><td>iPhone 15</td><td>999</td><td>Electronics</td><td>2025-01-05T10:30:00.000Z</td></tr><tr><td>2</td><td>Samsung Galaxy S24</td><td>899</td><td>Electronics</td><td>2025-02-10T15:45:00.000Z</td></tr><tr><td>3</td><td>MacBook Pro 16\"</td><td>2499</td><td>Electronics</td><td>2025-03-01T12:00:00.000Z</td></tr><tr><td>4</td><td>Nike Air Max</td><td>150</td><td>Footwear</td><td>2025-03-15T09:20:00.000Z</td></tr><tr><td>5</td><td>Adidas Ultraboost</td><td>180</td><td>Footwear</td><td>2025-03-18T14:10:00.000Z</td></tr><tr><td>6</td><td>Wooden Dining Table</td><td>750</td><td>Furniture</td><td>2025-04-01T11:00:00.000Z</td></tr><tr><td>7</td><td>Office Chair</td><td>120</td><td>Furniture</td><td>2025-04-03T16:25:00.000Z</td></tr><tr><td>8</td><td>Levi’s Jeans</td><td>70</td><td>Clothing</td><td>2025-04-10T13:50:00.000Z</td></tr><tr><td>9</td><td>Polo T-Shirt</td><td>40</td><td>Clothing</td><td>2025-04-15T17:30:00.000Z</td></tr><tr><td>10</td><td>Sony WH-1000XM5</td><td>400</td><td>Electronics</td><td>2025-05-01T08:45:00.000Z</td></tr><tr><td>10</td><td>Sony WH-1000XM5</td><td>200</td><td>Electronics</td><td>2025-08-26T21:39:09.426Z</td></tr><tr><td>9</td><td>Polo T-Shirt</td><td>50</td><td>Clothing</td><td>2025-08-26T21:39:09.426Z</td></tr></tbody></table></div>"
      ]
     },
     "metadata": {
      "application/vnd.databricks.v1+output": {
       "addedWidgets": {},
       "aggData": [],
       "aggError": "",
       "aggOverflow": false,
       "aggSchema": [],
       "aggSeriesLimitReached": false,
       "aggType": "",
       "arguments": {},
       "columnCustomDisplayInfos": {},
       "data": [
        [
         1,
         "iPhone 15",
         999,
         "Electronics",
         "2025-01-05T10:30:00.000Z"
        ],
        [
         2,
         "Samsung Galaxy S24",
         899,
         "Electronics",
         "2025-02-10T15:45:00.000Z"
        ],
        [
         3,
         "MacBook Pro 16\"",
         2499,
         "Electronics",
         "2025-03-01T12:00:00.000Z"
        ],
        [
         4,
         "Nike Air Max",
         150,
         "Footwear",
         "2025-03-15T09:20:00.000Z"
        ],
        [
         5,
         "Adidas Ultraboost",
         180,
         "Footwear",
         "2025-03-18T14:10:00.000Z"
        ],
        [
         6,
         "Wooden Dining Table",
         750,
         "Furniture",
         "2025-04-01T11:00:00.000Z"
        ],
        [
         7,
         "Office Chair",
         120,
         "Furniture",
         "2025-04-03T16:25:00.000Z"
        ],
        [
         8,
         "Levi’s Jeans",
         70,
         "Clothing",
         "2025-04-10T13:50:00.000Z"
        ],
        [
         9,
         "Polo T-Shirt",
         40,
         "Clothing",
         "2025-04-15T17:30:00.000Z"
        ],
        [
         10,
         "Sony WH-1000XM5",
         400,
         "Electronics",
         "2025-05-01T08:45:00.000Z"
        ],
        [
         10,
         "Sony WH-1000XM5",
         200,
         "Electronics",
         "2025-08-26T21:39:09.426Z"
        ],
        [
         9,
         "Polo T-Shirt",
         50,
         "Clothing",
         "2025-08-26T21:39:09.426Z"
        ]
       ],
       "datasetInfos": [],
       "dbfsResultPath": null,
       "isJsonSchema": true,
       "metadata": {},
       "overflow": false,
       "plotOptions": {
        "customPlotOptions": {},
        "displayType": "table",
        "pivotAggregation": null,
        "pivotColumns": null,
        "xColumns": null,
        "yColumns": null
       },
       "removedWidgets": [],
       "schema": [
        {
         "metadata": "{}",
         "name": "id",
         "type": "\"integer\""
        },
        {
         "metadata": "{}",
         "name": "name",
         "type": "\"string\""
        },
        {
         "metadata": "{}",
         "name": "price",
         "type": "\"integer\""
        },
        {
         "metadata": "{}",
         "name": "category",
         "type": "\"string\""
        },
        {
         "metadata": "{}",
         "name": "updated_date",
         "type": "\"timestamp\""
        }
       ],
       "type": "table"
      }
     },
     "output_type": "display_data"
    }
   ],
   "source": [
    "df = spark.sql(\"SELECT * FROM pyspark_cata.source.products\")\n",
    "display(df)"
   ]
  },
  {
   "cell_type": "markdown",
   "metadata": {
    "application/vnd.databricks.v1+cell": {
     "cellMetadata": {},
     "inputWidgets": {},
     "nuid": "0a016a68-ef62-4309-87b0-b788c6aa8868",
     "showTitle": false,
     "tableResultSettingsMap": {},
     "title": ""
    }
   },
   "source": [
    "### Applying row_number() to further filter out the duplicate data"
   ]
  },
  {
   "cell_type": "code",
   "execution_count": 0,
   "metadata": {
    "application/vnd.databricks.v1+cell": {
     "cellMetadata": {
      "byteLimit": 2048000,
      "rowLimit": 10000
     },
     "inputWidgets": {},
     "nuid": "cf8fd165-839a-420c-967a-760214d31714",
     "showTitle": false,
     "tableResultSettingsMap": {},
     "title": ""
    }
   },
   "outputs": [
    {
     "output_type": "display_data",
     "data": {
      "text/html": [
       "<style scoped>\n",
       "  .table-result-container {\n",
       "    max-height: 300px;\n",
       "    overflow: auto;\n",
       "  }\n",
       "  table, th, td {\n",
       "    border: 1px solid black;\n",
       "    border-collapse: collapse;\n",
       "  }\n",
       "  th, td {\n",
       "    padding: 5px;\n",
       "  }\n",
       "  th {\n",
       "    text-align: left;\n",
       "  }\n",
       "</style><div class='table-result-container'><table class='table-result'><thead style='background-color: white'><tr><th>id</th><th>name</th><th>price</th><th>category</th><th>updated_date</th><th>dedup</th></tr></thead><tbody><tr><td>1</td><td>iPhone 15</td><td>999</td><td>Electronics</td><td>2025-01-05T10:30:00.000Z</td><td>1</td></tr><tr><td>2</td><td>Samsung Galaxy S24</td><td>899</td><td>Electronics</td><td>2025-02-10T15:45:00.000Z</td><td>1</td></tr><tr><td>3</td><td>MacBook Pro 16\"</td><td>2499</td><td>Electronics</td><td>2025-03-01T12:00:00.000Z</td><td>1</td></tr><tr><td>4</td><td>Nike Air Max</td><td>150</td><td>Footwear</td><td>2025-03-15T09:20:00.000Z</td><td>1</td></tr><tr><td>5</td><td>Adidas Ultraboost</td><td>180</td><td>Footwear</td><td>2025-03-18T14:10:00.000Z</td><td>1</td></tr><tr><td>6</td><td>Wooden Dining Table</td><td>750</td><td>Furniture</td><td>2025-04-01T11:00:00.000Z</td><td>1</td></tr><tr><td>7</td><td>Office Chair</td><td>120</td><td>Furniture</td><td>2025-04-03T16:25:00.000Z</td><td>1</td></tr><tr><td>8</td><td>Levi’s Jeans</td><td>70</td><td>Clothing</td><td>2025-04-10T13:50:00.000Z</td><td>1</td></tr><tr><td>9</td><td>Polo T-Shirt</td><td>50</td><td>Clothing</td><td>2025-08-26T21:39:09.426Z</td><td>1</td></tr><tr><td>9</td><td>Polo T-Shirt</td><td>40</td><td>Clothing</td><td>2025-04-15T17:30:00.000Z</td><td>2</td></tr><tr><td>10</td><td>Sony WH-1000XM5</td><td>200</td><td>Electronics</td><td>2025-08-26T21:39:09.426Z</td><td>1</td></tr><tr><td>10</td><td>Sony WH-1000XM5</td><td>400</td><td>Electronics</td><td>2025-05-01T08:45:00.000Z</td><td>2</td></tr></tbody></table></div>"
      ]
     },
     "metadata": {
      "application/vnd.databricks.v1+output": {
       "addedWidgets": {},
       "aggData": [],
       "aggError": "",
       "aggOverflow": false,
       "aggSchema": [],
       "aggSeriesLimitReached": false,
       "aggType": "",
       "arguments": {},
       "columnCustomDisplayInfos": {},
       "data": [
        [
         1,
         "iPhone 15",
         999,
         "Electronics",
         "2025-01-05T10:30:00.000Z",
         1
        ],
        [
         2,
         "Samsung Galaxy S24",
         899,
         "Electronics",
         "2025-02-10T15:45:00.000Z",
         1
        ],
        [
         3,
         "MacBook Pro 16\"",
         2499,
         "Electronics",
         "2025-03-01T12:00:00.000Z",
         1
        ],
        [
         4,
         "Nike Air Max",
         150,
         "Footwear",
         "2025-03-15T09:20:00.000Z",
         1
        ],
        [
         5,
         "Adidas Ultraboost",
         180,
         "Footwear",
         "2025-03-18T14:10:00.000Z",
         1
        ],
        [
         6,
         "Wooden Dining Table",
         750,
         "Furniture",
         "2025-04-01T11:00:00.000Z",
         1
        ],
        [
         7,
         "Office Chair",
         120,
         "Furniture",
         "2025-04-03T16:25:00.000Z",
         1
        ],
        [
         8,
         "Levi’s Jeans",
         70,
         "Clothing",
         "2025-04-10T13:50:00.000Z",
         1
        ],
        [
         9,
         "Polo T-Shirt",
         50,
         "Clothing",
         "2025-08-26T21:39:09.426Z",
         1
        ],
        [
         9,
         "Polo T-Shirt",
         40,
         "Clothing",
         "2025-04-15T17:30:00.000Z",
         2
        ],
        [
         10,
         "Sony WH-1000XM5",
         200,
         "Electronics",
         "2025-08-26T21:39:09.426Z",
         1
        ],
        [
         10,
         "Sony WH-1000XM5",
         400,
         "Electronics",
         "2025-05-01T08:45:00.000Z",
         2
        ]
       ],
       "datasetInfos": [],
       "dbfsResultPath": null,
       "isJsonSchema": true,
       "metadata": {},
       "overflow": false,
       "plotOptions": {
        "customPlotOptions": {},
        "displayType": "table",
        "pivotAggregation": null,
        "pivotColumns": null,
        "xColumns": null,
        "yColumns": null
       },
       "removedWidgets": [],
       "schema": [
        {
         "metadata": "{}",
         "name": "id",
         "type": "\"integer\""
        },
        {
         "metadata": "{}",
         "name": "name",
         "type": "\"string\""
        },
        {
         "metadata": "{}",
         "name": "price",
         "type": "\"integer\""
        },
        {
         "metadata": "{}",
         "name": "category",
         "type": "\"string\""
        },
        {
         "metadata": "{}",
         "name": "updated_date",
         "type": "\"timestamp\""
        },
        {
         "metadata": "{}",
         "name": "dedup",
         "type": "\"integer\""
        }
       ],
       "type": "table"
      }
     },
     "output_type": "display_data"
    }
   ],
   "source": [
    "from pyspark.sql.window import Window\n",
    "from pyspark.sql.functions import *\n",
    "\n",
    "df = df.withColumn(\"dedup\", row_number().over(Window.partitionBy(\"id\").orderBy(desc(\"updated_date\"))))\n",
    "\n",
    "display(df)"
   ]
  },
  {
   "cell_type": "code",
   "execution_count": 0,
   "metadata": {
    "application/vnd.databricks.v1+cell": {
     "cellMetadata": {
      "byteLimit": 2048000,
      "rowLimit": 10000
     },
     "inputWidgets": {},
     "nuid": "73f592ca-ef7e-4e47-bf23-f51e9f189a01",
     "showTitle": false,
     "tableResultSettingsMap": {},
     "title": ""
    }
   },
   "outputs": [
    {
     "output_type": "display_data",
     "data": {
      "text/html": [
       "<style scoped>\n",
       "  .table-result-container {\n",
       "    max-height: 300px;\n",
       "    overflow: auto;\n",
       "  }\n",
       "  table, th, td {\n",
       "    border: 1px solid black;\n",
       "    border-collapse: collapse;\n",
       "  }\n",
       "  th, td {\n",
       "    padding: 5px;\n",
       "  }\n",
       "  th {\n",
       "    text-align: left;\n",
       "  }\n",
       "</style><div class='table-result-container'><table class='table-result'><thead style='background-color: white'><tr><th>id</th><th>name</th><th>price</th><th>category</th><th>updated_date</th></tr></thead><tbody><tr><td>1</td><td>iPhone 15</td><td>999</td><td>Electronics</td><td>2025-01-05T10:30:00.000Z</td></tr><tr><td>2</td><td>Samsung Galaxy S24</td><td>899</td><td>Electronics</td><td>2025-02-10T15:45:00.000Z</td></tr><tr><td>3</td><td>MacBook Pro 16\"</td><td>2499</td><td>Electronics</td><td>2025-03-01T12:00:00.000Z</td></tr><tr><td>4</td><td>Nike Air Max</td><td>150</td><td>Footwear</td><td>2025-03-15T09:20:00.000Z</td></tr><tr><td>5</td><td>Adidas Ultraboost</td><td>180</td><td>Footwear</td><td>2025-03-18T14:10:00.000Z</td></tr><tr><td>6</td><td>Wooden Dining Table</td><td>750</td><td>Furniture</td><td>2025-04-01T11:00:00.000Z</td></tr><tr><td>7</td><td>Office Chair</td><td>120</td><td>Furniture</td><td>2025-04-03T16:25:00.000Z</td></tr><tr><td>8</td><td>Levi’s Jeans</td><td>70</td><td>Clothing</td><td>2025-04-10T13:50:00.000Z</td></tr><tr><td>9</td><td>Polo T-Shirt</td><td>50</td><td>Clothing</td><td>2025-08-26T21:39:09.426Z</td></tr><tr><td>10</td><td>Sony WH-1000XM5</td><td>200</td><td>Electronics</td><td>2025-08-26T21:39:09.426Z</td></tr></tbody></table></div>"
      ]
     },
     "metadata": {
      "application/vnd.databricks.v1+output": {
       "addedWidgets": {},
       "aggData": [],
       "aggError": "",
       "aggOverflow": false,
       "aggSchema": [],
       "aggSeriesLimitReached": false,
       "aggType": "",
       "arguments": {},
       "columnCustomDisplayInfos": {},
       "data": [
        [
         1,
         "iPhone 15",
         999,
         "Electronics",
         "2025-01-05T10:30:00.000Z"
        ],
        [
         2,
         "Samsung Galaxy S24",
         899,
         "Electronics",
         "2025-02-10T15:45:00.000Z"
        ],
        [
         3,
         "MacBook Pro 16\"",
         2499,
         "Electronics",
         "2025-03-01T12:00:00.000Z"
        ],
        [
         4,
         "Nike Air Max",
         150,
         "Footwear",
         "2025-03-15T09:20:00.000Z"
        ],
        [
         5,
         "Adidas Ultraboost",
         180,
         "Footwear",
         "2025-03-18T14:10:00.000Z"
        ],
        [
         6,
         "Wooden Dining Table",
         750,
         "Furniture",
         "2025-04-01T11:00:00.000Z"
        ],
        [
         7,
         "Office Chair",
         120,
         "Furniture",
         "2025-04-03T16:25:00.000Z"
        ],
        [
         8,
         "Levi’s Jeans",
         70,
         "Clothing",
         "2025-04-10T13:50:00.000Z"
        ],
        [
         9,
         "Polo T-Shirt",
         50,
         "Clothing",
         "2025-08-26T21:39:09.426Z"
        ],
        [
         10,
         "Sony WH-1000XM5",
         200,
         "Electronics",
         "2025-08-26T21:39:09.426Z"
        ]
       ],
       "datasetInfos": [],
       "dbfsResultPath": null,
       "isJsonSchema": true,
       "metadata": {},
       "overflow": false,
       "plotOptions": {
        "customPlotOptions": {},
        "displayType": "table",
        "pivotAggregation": null,
        "pivotColumns": null,
        "xColumns": null,
        "yColumns": null
       },
       "removedWidgets": [],
       "schema": [
        {
         "metadata": "{}",
         "name": "id",
         "type": "\"integer\""
        },
        {
         "metadata": "{}",
         "name": "name",
         "type": "\"string\""
        },
        {
         "metadata": "{}",
         "name": "price",
         "type": "\"integer\""
        },
        {
         "metadata": "{}",
         "name": "category",
         "type": "\"string\""
        },
        {
         "metadata": "{}",
         "name": "updated_date",
         "type": "\"timestamp\""
        }
       ],
       "type": "table"
      }
     },
     "output_type": "display_data"
    }
   ],
   "source": [
    "df = df.filter(col('dedup')==1).drop('dedup')\n",
    "display(df)"
   ]
  },
  {
   "cell_type": "markdown",
   "metadata": {
    "application/vnd.databricks.v1+cell": {
     "cellMetadata": {},
     "inputWidgets": {},
     "nuid": "2167f204-ad93-4a0f-9aa2-d2defeeea233",
     "showTitle": false,
     "tableResultSettingsMap": {},
     "title": ""
    }
   },
   "source": [
    "## **Upserts**"
   ]
  },
  {
   "cell_type": "code",
   "execution_count": 0,
   "metadata": {
    "application/vnd.databricks.v1+cell": {
     "cellMetadata": {
      "byteLimit": 2048000,
      "rowLimit": 10000
     },
     "inputWidgets": {},
     "nuid": "396f201d-93e3-4a46-bcdd-99686494b93a",
     "showTitle": false,
     "tableResultSettingsMap": {},
     "title": ""
    }
   },
   "outputs": [
    {
     "output_type": "stream",
     "name": "stdout",
     "output_type": "stream",
     "text": [
      "Upserting the data...\n"
     ]
    }
   ],
   "source": [
    "from delta.tables import DeltaTable\n",
    "\n",
    "path = \"/Volumes/pyspark_cata/source/destination/products_dir/\"\n",
    "\n",
    "if len(dbutils.fs.ls(path))>0:\n",
    "    # If table exists, perform merge\n",
    "    dlt_obj = DeltaTable.forPath(spark, path)\n",
    "\n",
    "    (\n",
    "        dlt_obj.alias(\"tgt\")\n",
    "        .merge(\n",
    "            df.alias(\"src\"),\n",
    "            \"src.id = tgt.id\"  # merge condition\n",
    "        )\n",
    "        .whenMatchedUpdateAll(condition=\"src.updated_date >= tgt.updated_date\")\\\n",
    "        .whenNotMatchedInsertAll()\\\n",
    "        .execute()\n",
    "    )\n",
    "    print(\"Upserting the data...\")\n",
    "\n",
    "else:\n",
    "    # If table does not exist, create it\n",
    "    (\n",
    "        df.write.format(\"delta\")\n",
    "        .mode(\"overwrite\")   # overwrite on first create\n",
    "        .save(path)\n",
    "    )\n",
    "    print(\"Delta table created...\")"
   ]
  },
  {
   "cell_type": "code",
   "execution_count": 0,
   "metadata": {
    "application/vnd.databricks.v1+cell": {
     "cellMetadata": {
      "byteLimit": 2048000,
      "implicitDf": true,
      "rowLimit": 10000
     },
     "inputWidgets": {},
     "nuid": "0505d68a-953f-480f-abab-5d7dfe83ab6f",
     "showTitle": false,
     "tableResultSettingsMap": {},
     "title": ""
    }
   },
   "outputs": [
    {
     "output_type": "display_data",
     "data": {
      "text/html": [
       "<style scoped>\n",
       "  .table-result-container {\n",
       "    max-height: 300px;\n",
       "    overflow: auto;\n",
       "  }\n",
       "  table, th, td {\n",
       "    border: 1px solid black;\n",
       "    border-collapse: collapse;\n",
       "  }\n",
       "  th, td {\n",
       "    padding: 5px;\n",
       "  }\n",
       "  th {\n",
       "    text-align: left;\n",
       "  }\n",
       "</style><div class='table-result-container'><table class='table-result'><thead style='background-color: white'><tr><th>id</th><th>name</th><th>price</th><th>category</th><th>updated_date</th></tr></thead><tbody><tr><td>1</td><td>iPhone 15</td><td>999</td><td>Electronics</td><td>2025-01-05T10:30:00.000Z</td></tr><tr><td>4</td><td>Nike Air Max</td><td>150</td><td>Footwear</td><td>2025-03-15T09:20:00.000Z</td></tr><tr><td>8</td><td>Levi’s Jeans</td><td>70</td><td>Clothing</td><td>2025-04-10T13:50:00.000Z</td></tr><tr><td>6</td><td>Wooden Dining Table</td><td>750</td><td>Furniture</td><td>2025-04-01T11:00:00.000Z</td></tr><tr><td>3</td><td>MacBook Pro 16\"</td><td>2499</td><td>Electronics</td><td>2025-03-01T12:00:00.000Z</td></tr><tr><td>2</td><td>Samsung Galaxy S24</td><td>899</td><td>Electronics</td><td>2025-02-10T15:45:00.000Z</td></tr><tr><td>7</td><td>Office Chair</td><td>120</td><td>Furniture</td><td>2025-04-03T16:25:00.000Z</td></tr><tr><td>10</td><td>Sony WH-1000XM5</td><td>200</td><td>Electronics</td><td>2025-08-26T21:39:09.426Z</td></tr><tr><td>9</td><td>Polo T-Shirt</td><td>50</td><td>Clothing</td><td>2025-08-26T21:39:09.426Z</td></tr><tr><td>5</td><td>Adidas Ultraboost</td><td>180</td><td>Footwear</td><td>2025-03-18T14:10:00.000Z</td></tr></tbody></table></div>"
      ]
     },
     "metadata": {
      "application/vnd.databricks.v1+output": {
       "addedWidgets": {},
       "aggData": [],
       "aggError": "",
       "aggOverflow": false,
       "aggSchema": [],
       "aggSeriesLimitReached": false,
       "aggType": "",
       "arguments": {},
       "columnCustomDisplayInfos": {},
       "data": [
        [
         1,
         "iPhone 15",
         999,
         "Electronics",
         "2025-01-05T10:30:00.000Z"
        ],
        [
         4,
         "Nike Air Max",
         150,
         "Footwear",
         "2025-03-15T09:20:00.000Z"
        ],
        [
         8,
         "Levi’s Jeans",
         70,
         "Clothing",
         "2025-04-10T13:50:00.000Z"
        ],
        [
         6,
         "Wooden Dining Table",
         750,
         "Furniture",
         "2025-04-01T11:00:00.000Z"
        ],
        [
         3,
         "MacBook Pro 16\"",
         2499,
         "Electronics",
         "2025-03-01T12:00:00.000Z"
        ],
        [
         2,
         "Samsung Galaxy S24",
         899,
         "Electronics",
         "2025-02-10T15:45:00.000Z"
        ],
        [
         7,
         "Office Chair",
         120,
         "Furniture",
         "2025-04-03T16:25:00.000Z"
        ],
        [
         10,
         "Sony WH-1000XM5",
         200,
         "Electronics",
         "2025-08-26T21:39:09.426Z"
        ],
        [
         9,
         "Polo T-Shirt",
         50,
         "Clothing",
         "2025-08-26T21:39:09.426Z"
        ],
        [
         5,
         "Adidas Ultraboost",
         180,
         "Footwear",
         "2025-03-18T14:10:00.000Z"
        ]
       ],
       "datasetInfos": [
        {
         "name": "_sqldf",
         "schema": {
          "fields": [
           {
            "metadata": {},
            "name": "id",
            "nullable": true,
            "type": "integer"
           },
           {
            "metadata": {},
            "name": "name",
            "nullable": true,
            "type": "string"
           },
           {
            "metadata": {},
            "name": "price",
            "nullable": true,
            "type": "integer"
           },
           {
            "metadata": {},
            "name": "category",
            "nullable": true,
            "type": "string"
           },
           {
            "metadata": {},
            "name": "updated_date",
            "nullable": true,
            "type": "timestamp"
           }
          ],
          "type": "struct"
         },
         "tableIdentifier": null,
         "typeStr": "pyspark.sql.connect.dataframe.DataFrame"
        }
       ],
       "dbfsResultPath": null,
       "isJsonSchema": true,
       "metadata": {
        "createTempViewForImplicitDf": true,
        "dataframeName": "_sqldf",
        "executionCount": 24
       },
       "overflow": false,
       "plotOptions": {
        "customPlotOptions": {},
        "displayType": "table",
        "pivotAggregation": null,
        "pivotColumns": null,
        "xColumns": null,
        "yColumns": null
       },
       "removedWidgets": [],
       "schema": [
        {
         "metadata": "{}",
         "name": "id",
         "type": "\"integer\""
        },
        {
         "metadata": "{}",
         "name": "name",
         "type": "\"string\""
        },
        {
         "metadata": "{}",
         "name": "price",
         "type": "\"integer\""
        },
        {
         "metadata": "{}",
         "name": "category",
         "type": "\"string\""
        },
        {
         "metadata": "{}",
         "name": "updated_date",
         "type": "\"timestamp\""
        }
       ],
       "type": "table"
      }
     },
     "output_type": "display_data"
    }
   ],
   "source": [
    "%sql\n",
    "SELECT * FROM delta.`/Volumes/pyspark_cata/source/destination/products_dir/`"
   ]
  },
  {
   "cell_type": "code",
   "execution_count": 0,
   "metadata": {
    "application/vnd.databricks.v1+cell": {
     "cellMetadata": {
      "byteLimit": 2048000,
      "rowLimit": 10000
     },
     "inputWidgets": {},
     "nuid": "3c131db0-d5b5-4487-b10d-6c6b9a313095",
     "showTitle": false,
     "tableResultSettingsMap": {},
     "title": ""
    }
   },
   "outputs": [
    {
     "output_type": "execute_result",
     "data": {
      "text/plain": [
       "True"
      ]
     },
     "execution_count": 18,
     "metadata": {},
     "output_type": "execute_result"
    }
   ],
   "source": [
    "# # Removes the directory - (had some glitch that returned 2 rows with the same record.)\n",
    "# dbutils.fs.rm(\n",
    "#     \"/Volumes/pyspark_cata/source/destination/products_dir/\",\n",
    "#     True  # recursive delete\n",
    "# )"
   ]
  },
  {
   "cell_type": "code",
   "execution_count": 0,
   "metadata": {
    "application/vnd.databricks.v1+cell": {
     "cellMetadata": {},
     "inputWidgets": {},
     "nuid": "6f6b0ef7-6076-4ccd-9901-3ad1dc764245",
     "showTitle": false,
     "tableResultSettingsMap": {},
     "title": ""
    }
   },
   "outputs": [],
   "source": []
  }
 ],
 "metadata": {
  "application/vnd.databricks.v1+notebook": {
   "computePreferences": {
    "hardware": {
     "accelerator": null,
     "gpuPoolId": null,
     "memory": null
    }
   },
   "dashboards": [],
   "environmentMetadata": {
    "base_environment": "",
    "environment_version": "3"
   },
   "inputWidgetPreferences": null,
   "language": "python",
   "notebookMetadata": {
    "mostRecentlyExecutedCommandWithImplicitDF": {
     "commandId": 8265046902936712,
     "dataframes": [
      "_sqldf"
     ]
    },
    "pythonIndentUnit": 4
   },
   "notebookName": "scenario_one",
   "widgets": {}
  },
  "language_info": {
   "name": "python"
  }
 },
 "nbformat": 4,
 "nbformat_minor": 0
}